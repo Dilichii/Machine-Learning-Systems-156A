{
  "nbformat": 4,
  "nbformat_minor": 0,
  "metadata": {
    "colab": {
      "provenance": [],
      "authorship_tag": "ABX9TyMmSGYgs3WWsguOZENqjQt9",
      "include_colab_link": true
    },
    "kernelspec": {
      "name": "python3",
      "display_name": "Python 3"
    },
    "language_info": {
      "name": "python"
    }
  },
  "cells": [
    {
      "cell_type": "markdown",
      "metadata": {
        "id": "view-in-github",
        "colab_type": "text"
      },
      "source": [
        "<a href=\"https://colab.research.google.com/github/Dilichii/Machine-Learning-Systems-156A/blob/main/156Set1.ipynb\" target=\"_parent\"><img src=\"https://colab.research.google.com/assets/colab-badge.svg\" alt=\"Open In Colab\"/></a>"
      ]
    },
    {
      "cell_type": "code",
      "execution_count": 28,
      "metadata": {
        "colab": {
          "base_uri": "https://localhost:8080/"
        },
        "id": "Kmunc7CPQKBY",
        "outputId": "f916a9be-6c8f-494c-ded2-adfa200874b6"
      },
      "outputs": [
        {
          "output_type": "stream",
          "name": "stdout",
          "text": [
            "(4, 0.07333333333333333)\n"
          ]
        }
      ],
      "source": [
        "import numpy as np\n",
        "import random\n",
        "\n",
        "dif = 0\n",
        "\n",
        "def makeRandom():\n",
        "  return random.random() * 2.0 - 1.0\n",
        "\n",
        "def makeWeightVec(P, Q):\n",
        "    a = P[0] - Q[0]\n",
        "    b = Q[1] - P[1]\n",
        "    c = - (a * (P[0]) + b * (P[1]))\n",
        "    return [c, b, a]\n",
        "\n",
        "def createTargetFunc():\n",
        "    P = [makeRandom(), makeRandom()]\n",
        "    Q = [makeRandom(), makeRandom()]\n",
        "    return makeWeightVec(P, Q)\n",
        "\n",
        "def makeThePoints(N):\n",
        "  return np.array([[1, makeRandom(), makeRandom()] for _ in range(N)])\n",
        "\n",
        "\n",
        "def classifyPoint(w, x):\n",
        "  return np.sign(np.dot(w, x))\n",
        "\n",
        "def getDif(goal, cur):\n",
        "  magnitude = 30.0\n",
        "  c = 0\n",
        "  i = -1\n",
        "  while i <= 1:\n",
        "    j = -1\n",
        "    while j <= 1:\n",
        "      points = [1, i, j]\n",
        "      if(classifyPoint(goal, points) != classifyPoint(cur, points)):\n",
        "        c += 1\n",
        "      j += 2 / magnitude\n",
        "    i += 2 / magnitude\n",
        "  return (c / (magnitude * magnitude) )\n",
        "\n",
        "def runner(N):\n",
        "  # Defining Data\n",
        "  goalLine = createTargetFunc()\n",
        "  thePoints = makeThePoints(N)\n",
        "  classifiedPoints = np.array([classifyPoint(goalLine, x) for x in thePoints])\n",
        "\n",
        "  # Training the Perceptron\n",
        "  count = 0\n",
        "  w = [0, 0, 0]\n",
        "  idx = 0\n",
        "  isOver = 0\n",
        "\n",
        "  while(idx < N):\n",
        "    x = thePoints[idx]\n",
        "    y = classifiedPoints[idx]\n",
        "    if classifyPoint(w, x) != y:\n",
        "      count += 1\n",
        "      isOver = 0\n",
        "      w += y * x\n",
        "    else:\n",
        "       isOver += 1\n",
        "\n",
        "    if(isOver >= N):\n",
        "      break\n",
        "\n",
        "    idx += 1\n",
        "    if (idx == N):\n",
        "      idx = 0\n",
        "\n",
        "  return count, getDif(goalLine, w)\n"
      ]
    },
    {
      "cell_type": "code",
      "source": [
        "N = 10\n",
        "runs = 1000\n",
        "totalIters = 0\n",
        "totalDif = 0\n",
        "for _ in range(runs):\n",
        "  itersTilConverge, disagreement = runner(N)\n",
        "  totalIters += itersTilConverge\n",
        "  totalDif += disagreement\n",
        "\n",
        "avgItersTilConverge = totalIters / runs\n",
        "avgDisagreement = totalDif / runs\n",
        "print(\"Average Number of Interations Until Convergence (over 1000 runs): \" + str(avgItersTilConverge))\n",
        "print(\"Average Disagreement After Convergence (over 1000 runs): \" + str(avgDisagreement))"
      ],
      "metadata": {
        "colab": {
          "base_uri": "https://localhost:8080/"
        },
        "id": "WQ3-ueA3QKvH",
        "outputId": "6f5d9be6-5dac-4e21-83dd-e1f3a671b81f"
      },
      "execution_count": 31,
      "outputs": [
        {
          "output_type": "stream",
          "name": "stdout",
          "text": [
            "Average Number of Interations Until Convergence (over 1000 runs): 12.577\n",
            "Average Disagreement After Convergence (over 1000 runs): 0.11539666666666663\n"
          ]
        }
      ]
    },
    {
      "cell_type": "code",
      "source": [
        "N = 100\n",
        "runs = 1000\n",
        "totalIters = 0\n",
        "totalDif = 0\n",
        "for _ in range(runs):\n",
        "  itersTilConverge, disagreement = runner(N)\n",
        "  totalIters += itersTilConverge\n",
        "  totalDif += disagreement\n",
        "\n",
        "avgItersTilConverge = totalIters / runs\n",
        "avgDisagreement = totalDif / runs\n",
        "print(\"Average Number of Interations Until Convergence (over 1000 runs): \" + str(avgItersTilConverge))\n",
        "print(\"Average Disagreement After Convergence (over 1000 runs): \" + str(avgDisagreement))"
      ],
      "metadata": {
        "colab": {
          "base_uri": "https://localhost:8080/"
        },
        "id": "q9xv4KEbhdWw",
        "outputId": "e7a102df-0e1a-42b4-8cf0-f73ba0438b8b"
      },
      "execution_count": 32,
      "outputs": [
        {
          "output_type": "stream",
          "name": "stdout",
          "text": [
            "Average Number of Interations Until Convergence (over 1000 runs): 138.682\n",
            "Average Disagreement After Convergence (over 1000 runs): 0.015095555555555576\n"
          ]
        }
      ]
    }
  ]
}